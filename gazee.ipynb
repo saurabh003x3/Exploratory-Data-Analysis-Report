{
 "cells": [
  {
   "cell_type": "markdown",
   "metadata": {},
   "source": []
  },
  {
   "cell_type": "code",
   "execution_count": 1,
   "metadata": {},
   "outputs": [],
   "source": [
    "import pandas as pd"
   ]
  },
  {
   "cell_type": "code",
   "execution_count": 2,
   "metadata": {},
   "outputs": [],
   "source": [
    "df1 = pd.read_csv(\"C:/Users/Saurabh/OneDrive - iitgn.ac.in/Desktop/Imbesideu/emotional_data/1/gaze.csv\")\n",
    "df2 = pd.read_csv(\"C:/Users/Saurabh/OneDrive - iitgn.ac.in/Desktop/Imbesideu/emotional_data/2/gaze.csv\")\n",
    "df3 = pd.read_csv(\"C:/Users/Saurabh/OneDrive - iitgn.ac.in/Desktop/Imbesideu/emotional_data/3/gaze.csv\")\n",
    "df4 = pd.read_csv(\"C:/Users/Saurabh/OneDrive - iitgn.ac.in/Desktop/Imbesideu/emotional_data/4/gaze.csv\")\n",
    "df5 = pd.read_csv(\"C:/Users/Saurabh/OneDrive - iitgn.ac.in/Desktop/Imbesideu/emotional_data/5/gaze.csv\")\n",
    "df6 = pd.read_csv(\"C:/Users/Saurabh/OneDrive - iitgn.ac.in/Desktop/Imbesideu/emotional_data/6/gaze.csv\")\n",
    "df7 = pd.read_csv(\"C:/Users/Saurabh/OneDrive - iitgn.ac.in/Desktop/Imbesideu/emotional_data/7/gaze.csv\")\n",
    "df8 = pd.read_csv(\"C:/Users/Saurabh/OneDrive - iitgn.ac.in/Desktop/Imbesideu/emotional_data/8/gaze.csv\")\n",
    "df9 = pd.read_csv(\"C:/Users/Saurabh/OneDrive - iitgn.ac.in/Desktop/Imbesideu/emotional_data/9/gaze.csv\")\n",
    "df10 = pd.read_csv(\"C:/Users/Saurabh/OneDrive - iitgn.ac.in/Desktop/Imbesideu/emotional_data/10/gaze.csv\")"
   ]
  },
  {
   "cell_type": "code",
   "execution_count": 3,
   "metadata": {},
   "outputs": [
    {
     "name": "stdout",
     "output_type": "stream",
     "text": [
      "Index(['movie_id', 'image_seq', 'gaze', 'blink', 'eye_offset', 'Unnamed: 5',\n",
      "       'Unnamed: 6'],\n",
      "      dtype='object')\n"
     ]
    }
   ],
   "source": [
    "print(df1.columns)"
   ]
  },
  {
   "cell_type": "code",
   "execution_count": 4,
   "metadata": {},
   "outputs": [],
   "source": [
    "columns_for_EDA=['gaze', 'eye_offset']"
   ]
  },
  {
   "cell_type": "code",
   "execution_count": null,
   "metadata": {},
   "outputs": [],
   "source": [
    "with pd.ExcelWriter(\"C:/Users/Saurabh/OneDrive - iitgn.ac.in/Desktop/Imbesideu/EDA/gaze_avg.xlsx\") as writer:\n",
    "    df1[columns_for_EDA].mean().to_excel(writer,sheet_name='1')\n",
    "    df2[columns_for_EDA].mean().to_excel(writer,sheet_name='2')\n",
    "    df3[columns_for_EDA].mean().to_excel(writer,sheet_name='3')\n",
    "    df4[columns_for_EDA].mean().to_excel(writer,sheet_name='4')\n",
    "    df5[columns_for_EDA].mean().to_excel(writer,sheet_name='5')\n",
    "    df6[columns_for_EDA].mean().to_excel(writer,sheet_name='6')\n",
    "    df7[columns_for_EDA].mean().to_excel(writer,sheet_name='7')\n",
    "    df8[columns_for_EDA].mean().to_excel(writer,sheet_name='8')\n",
    "    df9[columns_for_EDA].mean().to_excel(writer,sheet_name='9')\n",
    "    df10[columns_for_EDA].mean().to_excel(writer,sheet_name='10')"
   ]
  },
  {
   "cell_type": "code",
   "execution_count": null,
   "metadata": {},
   "outputs": [],
   "source": []
  }
 ],
 "metadata": {
  "kernelspec": {
   "display_name": "Python 3",
   "language": "python",
   "name": "python3"
  },
  "language_info": {
   "codemirror_mode": {
    "name": "ipython",
    "version": 3
   },
   "file_extension": ".py",
   "mimetype": "text/x-python",
   "name": "python",
   "nbconvert_exporter": "python",
   "pygments_lexer": "ipython3",
   "version": "3.10.0"
  },
  "orig_nbformat": 4
 },
 "nbformat": 4,
 "nbformat_minor": 2
}
