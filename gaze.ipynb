{
 "cells": [
  {
   "cell_type": "code",
   "execution_count": 1,
   "metadata": {},
   "outputs": [],
   "source": [
    "import pandas as pd"
   ]
  },
  {
   "cell_type": "code",
   "execution_count": 3,
   "metadata": {},
   "outputs": [],
   "source": [
    "df1 = pd.read_csv(\"C:/Users/Saurabh/OneDrive - iitgn.ac.in/Desktop/Imbesideu/emotional_data/1/gaze.csv\")\n",
    "df2 = pd.read_csv(\"C:/Users/Saurabh/OneDrive - iitgn.ac.in/Desktop/Imbesideu/emotional_data/2/gaze.csv\")\n",
    "df3 = pd.read_csv(\"C:/Users/Saurabh/OneDrive - iitgn.ac.in/Desktop/Imbesideu/emotional_data/3/gaze.csv\")\n",
    "df4 = pd.read_csv(\"C:/Users/Saurabh/OneDrive - iitgn.ac.in/Desktop/Imbesideu/emotional_data/4/gaze.csv\")\n",
    "df5 = pd.read_csv(\"C:/Users/Saurabh/OneDrive - iitgn.ac.in/Desktop/Imbesideu/emotional_data/5/gaze.csv\")\n",
    "df6 = pd.read_csv(\"C:/Users/Saurabh/OneDrive - iitgn.ac.in/Desktop/Imbesideu/emotional_data/6/gaze.csv\")\n",
    "df7 = pd.read_csv(\"C:/Users/Saurabh/OneDrive - iitgn.ac.in/Desktop/Imbesideu/emotional_data/7/gaze.csv\")\n",
    "df8 = pd.read_csv(\"C:/Users/Saurabh/OneDrive - iitgn.ac.in/Desktop/Imbesideu/emotional_data/8/gaze.csv\")\n",
    "df9 = pd.read_csv(\"C:/Users/Saurabh/OneDrive - iitgn.ac.in/Desktop/Imbesideu/emotional_data/9/gaze.csv\")\n",
    "df10 = pd.read_csv(\"C:/Users/Saurabh/OneDrive - iitgn.ac.in/Desktop/Imbesideu/emotional_data/10/gaze.csv\")"
   ]
  },
  {
   "cell_type": "code",
   "execution_count": 4,
   "metadata": {},
   "outputs": [
    {
     "data": {
      "text/html": [
       "<div>\n",
       "<style scoped>\n",
       "    .dataframe tbody tr th:only-of-type {\n",
       "        vertical-align: middle;\n",
       "    }\n",
       "\n",
       "    .dataframe tbody tr th {\n",
       "        vertical-align: top;\n",
       "    }\n",
       "\n",
       "    .dataframe thead th {\n",
       "        text-align: right;\n",
       "    }\n",
       "</style>\n",
       "<table border=\"1\" class=\"dataframe\">\n",
       "  <thead>\n",
       "    <tr style=\"text-align: right;\">\n",
       "      <th></th>\n",
       "      <th>image_seq</th>\n",
       "      <th>gaze</th>\n",
       "      <th>blink</th>\n",
       "      <th>eye_offset</th>\n",
       "      <th>Unnamed: 5</th>\n",
       "      <th>Unnamed: 6</th>\n",
       "    </tr>\n",
       "  </thead>\n",
       "  <tbody>\n",
       "    <tr>\n",
       "      <th>count</th>\n",
       "      <td>88.000000</td>\n",
       "      <td>89.000000</td>\n",
       "      <td>88.0</td>\n",
       "      <td>89.000000</td>\n",
       "      <td>0.0</td>\n",
       "      <td>87.000000</td>\n",
       "    </tr>\n",
       "    <tr>\n",
       "      <th>mean</th>\n",
       "      <td>46.795455</td>\n",
       "      <td>0.625000</td>\n",
       "      <td>0.0</td>\n",
       "      <td>15.801363</td>\n",
       "      <td>NaN</td>\n",
       "      <td>1.080460</td>\n",
       "    </tr>\n",
       "    <tr>\n",
       "      <th>std</th>\n",
       "      <td>27.690058</td>\n",
       "      <td>0.484123</td>\n",
       "      <td>0.0</td>\n",
       "      <td>17.756758</td>\n",
       "      <td>NaN</td>\n",
       "      <td>0.273581</td>\n",
       "    </tr>\n",
       "    <tr>\n",
       "      <th>min</th>\n",
       "      <td>1.000000</td>\n",
       "      <td>0.000000</td>\n",
       "      <td>0.0</td>\n",
       "      <td>-33.465500</td>\n",
       "      <td>NaN</td>\n",
       "      <td>1.000000</td>\n",
       "    </tr>\n",
       "    <tr>\n",
       "      <th>50%</th>\n",
       "      <td>45.500000</td>\n",
       "      <td>1.000000</td>\n",
       "      <td>0.0</td>\n",
       "      <td>19.578700</td>\n",
       "      <td>NaN</td>\n",
       "      <td>1.000000</td>\n",
       "    </tr>\n",
       "    <tr>\n",
       "      <th>max</th>\n",
       "      <td>95.000000</td>\n",
       "      <td>1.000000</td>\n",
       "      <td>0.0</td>\n",
       "      <td>65.027600</td>\n",
       "      <td>NaN</td>\n",
       "      <td>2.000000</td>\n",
       "    </tr>\n",
       "  </tbody>\n",
       "</table>\n",
       "</div>"
      ],
      "text/plain": [
       "       image_seq       gaze  blink  eye_offset  Unnamed: 5  Unnamed: 6\n",
       "count  88.000000  89.000000   88.0   89.000000         0.0   87.000000\n",
       "mean   46.795455   0.625000    0.0   15.801363         NaN    1.080460\n",
       "std    27.690058   0.484123    0.0   17.756758         NaN    0.273581\n",
       "min     1.000000   0.000000    0.0  -33.465500         NaN    1.000000\n",
       "50%    45.500000   1.000000    0.0   19.578700         NaN    1.000000\n",
       "max    95.000000   1.000000    0.0   65.027600         NaN    2.000000"
      ]
     },
     "execution_count": 4,
     "metadata": {},
     "output_type": "execute_result"
    }
   ],
   "source": [
    "df1.describe(())"
   ]
  },
  {
   "cell_type": "code",
   "execution_count": 5,
   "metadata": {},
   "outputs": [
    {
     "data": {
      "text/html": [
       "<div>\n",
       "<style scoped>\n",
       "    .dataframe tbody tr th:only-of-type {\n",
       "        vertical-align: middle;\n",
       "    }\n",
       "\n",
       "    .dataframe tbody tr th {\n",
       "        vertical-align: top;\n",
       "    }\n",
       "\n",
       "    .dataframe thead th {\n",
       "        text-align: right;\n",
       "    }\n",
       "</style>\n",
       "<table border=\"1\" class=\"dataframe\">\n",
       "  <thead>\n",
       "    <tr style=\"text-align: right;\">\n",
       "      <th></th>\n",
       "      <th>movie_id</th>\n",
       "      <th>image_seq</th>\n",
       "      <th>gaze</th>\n",
       "      <th>blink</th>\n",
       "      <th>eye_offset</th>\n",
       "      <th>Unnamed: 5</th>\n",
       "      <th>Unnamed: 6</th>\n",
       "    </tr>\n",
       "  </thead>\n",
       "  <tbody>\n",
       "    <tr>\n",
       "      <th>0</th>\n",
       "      <td>93663f94-bf0a-4ce8-a29a-a5236cc7fe6a</td>\n",
       "      <td>1.0</td>\n",
       "      <td>1.0</td>\n",
       "      <td>0.0</td>\n",
       "      <td>6.2253</td>\n",
       "      <td>NaN</td>\n",
       "      <td>1.0</td>\n",
       "    </tr>\n",
       "  </tbody>\n",
       "</table>\n",
       "</div>"
      ],
      "text/plain": [
       "                               movie_id  image_seq  gaze  blink  eye_offset  \\\n",
       "0  93663f94-bf0a-4ce8-a29a-a5236cc7fe6a        1.0   1.0    0.0      6.2253   \n",
       "\n",
       "   Unnamed: 5  Unnamed: 6  \n",
       "0         NaN         1.0  "
      ]
     },
     "execution_count": 5,
     "metadata": {},
     "output_type": "execute_result"
    }
   ],
   "source": [
    "df1.head(1)"
   ]
  },
  {
   "cell_type": "code",
   "execution_count": 6,
   "metadata": {},
   "outputs": [],
   "source": [
    "columns = ['gaze','eye_offset']"
   ]
  },
  {
   "cell_type": "code",
   "execution_count": 8,
   "metadata": {},
   "outputs": [],
   "source": [
    "import os\n",
    "\n",
    "\n",
    "file_paths = [\n",
    "    \"C:/Users/Saurabh/OneDrive - iitgn.ac.in/Desktop/Imbesideu/emotional_data/1/gaze.csv\"\n",
    "    \"C:/Users/Saurabh/OneDrive - iitgn.ac.in/Desktop/Imbesideu/emotional_data/2/gaze.csv\"\n",
    "    \"C:/Users/Saurabh/OneDrive - iitgn.ac.in/Desktop/Imbesideu/emotional_data/3/gaze.csv\"\n",
    "    \"C:/Users/Saurabh/OneDrive - iitgn.ac.in/Desktop/Imbesideu/emotional_data/4/gaze.csv\"\n",
    "    \"C:/Users/Saurabh/OneDrive - iitgn.ac.in/Desktop/Imbesideu/emotional_data/5/gaze.csv\"\n",
    "    \"C:/Users/Saurabh/OneDrive - iitgn.ac.in/Desktop/Imbesideu/emotional_data/6/gaze.csv\"\n",
    "    \"C:/Users/Saurabh/OneDrive - iitgn.ac.in/Desktop/Imbesideu/emotional_data/7/gaze.csv\"\n",
    "    \"C:/Users/Saurabh/OneDrive - iitgn.ac.in/Desktop/Imbesideu/emotional_data/8/gaze.csv\"\n",
    "    \"C:/Users/Saurabh/OneDrive - iitgn.ac.in/Desktop/Imbesideu/emotional_data/9/gaze.csv\"\n",
    "    \"C:/Users/Saurabh/OneDrive - iitgn.ac.in/Desktop/Imbesideu/emotional_data/10/gaze.csv\"\n",
    "]\n",
    "\n",
    "# Create a list to store the average values\n",
    "average_values = []\n",
    "\n",
    "# Loop through the file paths\n",
    "for file_path in file_paths:\n",
    "    if os.path.isfile(file_path):  # Check if the file exists\n",
    "        # Extract the file name from the path\n",
    "        filename = os.path.basename(file_path)\n",
    "        df = pd.read_csv(file_path)\n",
    "        average_eye_offset = df['eye_offset'].mean()\n",
    "        average_values.append({'File': filename, 'Average Eye Offset': average_eye_offset})\n",
    "\n",
    "# Create a DataFrame from the list of average values\n",
    "average_df = pd.DataFrame(average_values)\n",
    "\n",
    "# Create a writer object for Excel\n",
    "excel_writer = pd.ExcelWriter('average_eye_offset.xlsx', engine='openpyxl')\n",
    "\n",
    "# Write the DataFrame to the Excel file\n",
    "average_df.to_excel(excel_writer, sheet_name='Averages', index=False)\n",
    "\n",
    "# Save the Excel file\n",
    "excel_writer.close()\n"
   ]
  },
  {
   "cell_type": "code",
   "execution_count": 10,
   "metadata": {},
   "outputs": [
    {
     "data": {
      "text/plain": [
       "Index(['movie_id', 'image_seq', 'gaze', 'blink', 'eye_offset', 'Unnamed: 5',\n",
       "       'Unnamed: 6'],\n",
       "      dtype='object')"
      ]
     },
     "execution_count": 10,
     "metadata": {},
     "output_type": "execute_result"
    }
   ],
   "source": [
    "df1.columns"
   ]
  },
  {
   "cell_type": "code",
   "execution_count": 12,
   "metadata": {},
   "outputs": [
    {
     "data": {
      "text/plain": [
       "movie_id       object\n",
       "image_seq     float64\n",
       "gaze          float64\n",
       "blink         float64\n",
       "eye_offset    float64\n",
       "dtype: object"
      ]
     },
     "execution_count": 12,
     "metadata": {},
     "output_type": "execute_result"
    }
   ],
   "source": [
    "col = ['movie_id', 'image_seq', 'gaze', 'blink', 'eye_offset']\n",
    "df1[col].dtypes"
   ]
  },
  {
   "cell_type": "code",
   "execution_count": null,
   "metadata": {},
   "outputs": [],
   "source": []
  }
 ],
 "metadata": {
  "kernelspec": {
   "display_name": "Python 3",
   "language": "python",
   "name": "python3"
  },
  "language_info": {
   "codemirror_mode": {
    "name": "ipython",
    "version": 3
   },
   "file_extension": ".py",
   "mimetype": "text/x-python",
   "name": "python",
   "nbconvert_exporter": "python",
   "pygments_lexer": "ipython3",
   "version": "3.10.0"
  },
  "orig_nbformat": 4
 },
 "nbformat": 4,
 "nbformat_minor": 2
}
