{
 "cells": [
  {
   "cell_type": "code",
   "execution_count": 1,
   "metadata": {},
   "outputs": [],
   "source": [
    "import pandas as pd"
   ]
  },
  {
   "cell_type": "code",
   "execution_count": 5,
   "metadata": {},
   "outputs": [],
   "source": [
    "df1_t = pd.read_csv(\"C:/Users/Saurabh/OneDrive - iitgn.ac.in/Desktop/Imbesideu/Transcript_data/1.csv\")\n",
    "df1_e = pd.read_csv(\"C:/Users/Saurabh/OneDrive - iitgn.ac.in/Desktop/Imbesideu/emotional_data/1/emotion.csv\")"
   ]
  },
  {
   "cell_type": "code",
   "execution_count": 13,
   "metadata": {},
   "outputs": [
    {
     "data": {
      "text/plain": [
       "Index(['id', 'seek', 'start', 'end', 'text', 'tokens', 'temperature',\n",
       "       'avg_logprob', 'compression_ratio', 'no_speech_prob', 'positive',\n",
       "       'negative', 'neutral', 'confident', 'hesitant', 'concise',\n",
       "       'enthusiastic', 'speech_speed'],\n",
       "      dtype='object')"
      ]
     },
     "execution_count": 13,
     "metadata": {},
     "output_type": "execute_result"
    }
   ],
   "source": [
    "df1_t.columns\n"
   ]
  },
  {
   "cell_type": "code",
   "execution_count": 17,
   "metadata": {},
   "outputs": [
    {
     "data": {
      "text/plain": [
       "Index(['movie_id', 'image_seq', 'angry', 'disgust', 'fear', 'happy', 'sad',\n",
       "       'surprise', 'neutral', 'dominant_emotion', 'Unnamed: 10', 'Unnamed: 11',\n",
       "       'Unnamed: 12', 'Unnamed: 13'],\n",
       "      dtype='object')"
      ]
     },
     "execution_count": 17,
     "metadata": {},
     "output_type": "execute_result"
    }
   ],
   "source": [
    "df1_e.columns"
   ]
  },
  {
   "cell_type": "code",
   "execution_count": 14,
   "metadata": {},
   "outputs": [],
   "source": [
    "columns1_t=['id', 'seek', 'start', 'end', 'text', 'tokens', 'temperature', 'avg_logprob', 'compression_ratio', 'no_speech_prob', 'positive','negative', 'neutral', 'confident', 'hesitant', 'concise','enthusiastic', 'speech_speed']"
   ]
  },
  {
   "cell_type": "code",
   "execution_count": 18,
   "metadata": {},
   "outputs": [],
   "source": [
    "columns1_e = ['movie_id', 'image_seq', 'angry', 'disgust', 'fear', 'happy', 'sad','surprise', 'neutral', 'dominant_emotion']"
   ]
  },
  {
   "cell_type": "code",
   "execution_count": 16,
   "metadata": {},
   "outputs": [
    {
     "data": {
      "text/plain": [
       "id                    object\n",
       "seek                 float64\n",
       "start                float64\n",
       "end                  float64\n",
       "text                  object\n",
       "tokens                object\n",
       "temperature          float64\n",
       "avg_logprob          float64\n",
       "compression_ratio    float64\n",
       "no_speech_prob       float64\n",
       "positive             float64\n",
       "negative             float64\n",
       "neutral              float64\n",
       "confident            float64\n",
       "hesitant             float64\n",
       "concise              float64\n",
       "enthusiastic         float64\n",
       "speech_speed         float64\n",
       "dtype: object"
      ]
     },
     "execution_count": 16,
     "metadata": {},
     "output_type": "execute_result"
    }
   ],
   "source": [
    "df1_t[columns1_t].dtypes"
   ]
  },
  {
   "cell_type": "code",
   "execution_count": 19,
   "metadata": {},
   "outputs": [
    {
     "data": {
      "text/plain": [
       "movie_id             object\n",
       "image_seq           float64\n",
       "angry               float64\n",
       "disgust             float64\n",
       "fear                float64\n",
       "happy               float64\n",
       "sad                 float64\n",
       "surprise            float64\n",
       "neutral             float64\n",
       "dominant_emotion     object\n",
       "dtype: object"
      ]
     },
     "execution_count": 19,
     "metadata": {},
     "output_type": "execute_result"
    }
   ],
   "source": [
    "df1_e[columns1_e].dtypes"
   ]
  },
  {
   "cell_type": "code",
   "execution_count": 20,
   "metadata": {},
   "outputs": [],
   "source": [
    "dff = pd.read_csv(\"C:/Users/Saurabh/OneDrive - iitgn.ac.in/Desktop/Imbesideu/emotional_data/6/metadata.csv\")"
   ]
  },
  {
   "cell_type": "code",
   "execution_count": 21,
   "metadata": {},
   "outputs": [
    {
     "data": {
      "text/plain": [
       "Index(['movie_id', 'image_seq', 'participant_id', 'elapsed_time',\n",
       "       'upload_time', 'distance'],\n",
       "      dtype='object')"
      ]
     },
     "execution_count": 21,
     "metadata": {},
     "output_type": "execute_result"
    }
   ],
   "source": [
    "dff.columns"
   ]
  },
  {
   "cell_type": "code",
   "execution_count": 24,
   "metadata": {},
   "outputs": [],
   "source": [
    "coll = ['movie_id', 'image_seq', 'participant_id', 'elapsed_time',\n",
    "       'upload_time', 'distance']"
   ]
  },
  {
   "cell_type": "code",
   "execution_count": 25,
   "metadata": {},
   "outputs": [
    {
     "data": {
      "text/plain": [
       "movie_id          object\n",
       "image_seq          int64\n",
       "participant_id    object\n",
       "elapsed_time       int64\n",
       "upload_time       object\n",
       "distance           int64\n",
       "dtype: object"
      ]
     },
     "execution_count": 25,
     "metadata": {},
     "output_type": "execute_result"
    }
   ],
   "source": [
    "dff[coll].dtypes"
   ]
  },
  {
   "cell_type": "code",
   "execution_count": null,
   "metadata": {},
   "outputs": [],
   "source": []
  }
 ],
 "metadata": {
  "kernelspec": {
   "display_name": "Python 3",
   "language": "python",
   "name": "python3"
  },
  "language_info": {
   "codemirror_mode": {
    "name": "ipython",
    "version": 3
   },
   "file_extension": ".py",
   "mimetype": "text/x-python",
   "name": "python",
   "nbconvert_exporter": "python",
   "pygments_lexer": "ipython3",
   "version": "3.10.0"
  },
  "orig_nbformat": 4
 },
 "nbformat": 4,
 "nbformat_minor": 2
}
